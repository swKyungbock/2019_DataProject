{
 "cells": [
  {
   "cell_type": "markdown",
   "metadata": {},
   "source": [
    "# Day4 : 보다 쉽게 데이터 다루기(numpy, pandas)"
   ]
  },
  {
   "cell_type": "markdown",
   "metadata": {},
   "source": [
    "## [워밍업 문제] : data/scientists.csv\n",
    "- 과학자들의 평균 나이(Age)는 얼마일까요?\n",
    "- 직업(Occupation)이 화학자(Chemist)인 과학자는 누구일까요?"
   ]
  },
  {
   "cell_type": "code",
   "execution_count": 7,
   "metadata": {},
   "outputs": [
    {
     "name": "stdout",
     "output_type": "stream",
     "text": [
      "1.과학자들의 평균 나이 :  59.125\n",
      "2.직업(Occupation)이 화학자(Chemist)인 과학자 :  ['Rosaline Franklin', 'Marie Curie']\n"
     ]
    }
   ],
   "source": [
    "import csv\n",
    "f=open('./data/scientists.csv','r')\n",
    "data=csv.reader(f)\n",
    "next(data)\n",
    "sumAge=0\n",
    "aveAge=0.0\n",
    "cnt=0\n",
    "Chemist=[]\n",
    "data=list(data)\n",
    "for row in data :\n",
    "    cnt+=1 #데이터 갯수 세기\n",
    "    sumAge=sumAge+int(row[3])    #나이의 누적합\n",
    "    if(row[-1]=='Chemist'):\n",
    "        Chemist.append(row[0])\n",
    "aveAge=sumAge/len(data)   \n",
    "print(\"1.과학자들의 평균 나이 : \",aveAge)\n",
    "print(\"2.직업(Occupation)이 화학자(Chemist)인 과학자 : \",Chemist)\n",
    "f.close()"
   ]
  },
  {
   "cell_type": "markdown",
   "metadata": {},
   "source": [
    "# #1. numpy라이브러리"
   ]
  },
  {
   "cell_type": "markdown",
   "metadata": {},
   "source": [
    "## 1. python 기본 코드 Vs. numpy 모듈 사용 코드"
   ]
  },
  {
   "cell_type": "markdown",
   "metadata": {},
   "source": [
    "## 1-1. 0~50까지의 데이터 중 짝수만 발생시켜서 모두 저장하기"
   ]
  },
  {
   "cell_type": "code",
   "execution_count": 10,
   "metadata": {},
   "outputs": [
    {
     "name": "stdout",
     "output_type": "stream",
     "text": [
      "[0, 2, 4, 6, 8, 10, 12, 14, 16, 18, 20, 22, 24, 26, 28, 30, 32, 34, 36, 38, 40, 42, 44, 46, 48, 50]\n",
      "<class 'list'>\n"
     ]
    }
   ],
   "source": [
    "data=[]\n",
    "for i in range(0,51,2) :\n",
    "    data.append(i)\n",
    "print(data)\n",
    "print(type(data))"
   ]
  },
  {
   "cell_type": "code",
   "execution_count": 11,
   "metadata": {
    "scrolled": true
   },
   "outputs": [
    {
     "name": "stdout",
     "output_type": "stream",
     "text": [
      "[0, 2, 4, 6, 8, 10, 12, 14, 16, 18, 20, 22, 24, 26, 28, 30, 32, 34, 36, 38, 40, 42, 44, 46, 48, 50]\n",
      "<class 'numpy.ndarray'>\n"
     ]
    }
   ],
   "source": [
    "import numpy as np\n",
    "arr=np.arange(0,51,2)\n",
    "print(data)\n",
    "print(type(arr))"
   ]
  },
  {
   "cell_type": "markdown",
   "metadata": {},
   "source": [
    "## 1-2. 주사위를 10번 굴려 숫자들의 발생 빈도 히스토그램 그리기"
   ]
  },
  {
   "cell_type": "code",
   "execution_count": 32,
   "metadata": {},
   "outputs": [
    {
     "name": "stdout",
     "output_type": "stream",
     "text": [
      "[4, 1, 1, 2, 4, 1, 3, 1, 6, 3]\n"
     ]
    },
    {
     "data": {
      "image/png": "[encoded data removed]",
      "text/plain": [
       "<Figure size 432x288 with 1 Axes>"
      ]
     },
     "metadata": {
      "needs_background": "light"
     },
     "output_type": "display_data"
    }
   ],
   "source": [
    "import matplotlib.pyplot as plt\n",
    "import random\n",
    "dice=[]\n",
    "for i in range(10) :\n",
    "    dice.append(random.randint(1,6))\n",
    "print(dice)\n",
    "plt.hist(dice,rwidth=0.9,bins=6)\n",
    "plt.xlim(1,6)\n",
    "plt.show()"
   ]
  },
  {
   "cell_type": "code",
   "execution_count": 36,
   "metadata": {},
   "outputs": [
    {
     "name": "stdout",
     "output_type": "stream",
     "text": [
      "[1 6 1 3 2 2 2 1 6 2]\n",
      "<class 'numpy.ndarray'>\n"
     ]
    },
    {
     "data": {
      "image/png": "[encoded data removed]",
      "text/plain": [
       "<Figure size 432x288 with 1 Axes>"
      ]
     },
     "metadata": {
      "needs_background": "light"
     },
     "output_type": "display_data"
    }
   ],
   "source": [
    "import matplotlib.pyplot as plt\n",
    "import numpy as np\n",
    "dice=np.random.choice(range(1,7),10)\n",
    "print(dice)\n",
    "plt.hist(dice,rwidth=0.9,bins=6)\n",
    "plt.xlim(1,6)\n",
    "plt.show()"
   ]
  },
  {
   "cell_type": "markdown",
   "metadata": {},
   "source": [
    "## 2. numpy 배열 다루어 보기"
   ]
  },
  {
   "cell_type": "markdown",
   "metadata": {},
   "source": [
    "## 2-1. 1차원 배열"
   ]
  },
  {
   "cell_type": "code",
   "execution_count": 45,
   "metadata": {},
   "outputs": [
    {
     "name": "stdout",
     "output_type": "stream",
     "text": [
      "[11 22 33 44]\n",
      "[ 9 18 27 36]\n",
      "[     10     400   27000 2560000]\n",
      "[0 1 2 3 4]\n",
      "합계 :  10 평균 :  2.0\n",
      "[1 2 3 4]\n",
      "[ 1  3  6 10]\n",
      "[ 1  2  6 24]\n"
     ]
    }
   ],
   "source": [
    "import numpy as np\n",
    "arr1=np.array([10,20,30,40]) #배열생성\n",
    "arr2=np.array([1,2,3,4])\n",
    "print(arr1+arr2) \n",
    "print(arr1-arr2)\n",
    "print(arr1**arr2)\n",
    "\n",
    "arr3=np.arange(5)#0~4까지 데이터 발생\n",
    "print(arr3)\n",
    "print(\"합계 : \", arr3.sum(),\"평균 : \",arr3.mean())\n",
    "arr4=np.arange(1,5)#1~4까지 데이터 발생\n",
    "print(arr4)\n",
    "print(arr4.cumsum()) #원소들의 누적합\n",
    "print(arr4.cumprod()) #원소들의 누적곱"
   ]
  },
  {
   "cell_type": "markdown",
   "metadata": {},
   "source": [
    "## 2-2. 다차원 배열"
   ]
  },
  {
   "cell_type": "code",
   "execution_count": 54,
   "metadata": {},
   "outputs": [
    {
     "name": "stdout",
     "output_type": "stream",
     "text": [
      "[[1 2 3]\n",
      " [4 5 6]\n",
      " [7 8 9]]\n",
      "[[ 0  1  2]\n",
      " [ 3  4  5]\n",
      " [ 6  7  8]\n",
      " [ 9 10 11]]\n",
      "[0. 0. 0. 0. 0. 0. 0. 0. 0. 0.]\n",
      "[[1. 1. 1. 1. 1.]\n",
      " [1. 1. 1. 1. 1.]]\n"
     ]
    }
   ],
   "source": [
    "import numpy as np\n",
    "arr1=np.array([[1,2,3],[4,5,6],[7,8,9]]) #3행 3열 배열\n",
    "print(arr1)\n",
    "arr2=np.arange(12).reshape(4,3) #0~12까지의 데이터 생성, 4행 3열 배열\n",
    "print(arr2)\n",
    "arr3=np.zeros(10) #10개의 원소가 모두 0인 배열\n",
    "print(arr3)\n",
    "arr4=np.ones((2,5)) #2행 5열의 원소가 모두 1인 배열\n",
    "print(arr4)"
   ]
  },
  {
   "cell_type": "markdown",
   "metadata": {},
   "source": [
    "# #2. pandas라이브러리"
   ]
  },
  {
   "cell_type": "markdown",
   "metadata": {},
   "source": [
    "## 1. pandas의 Series "
   ]
  },
  {
   "cell_type": "code",
   "execution_count": 59,
   "metadata": {},
   "outputs": [
    {
     "name": "stdout",
     "output_type": "stream",
     "text": [
      "0    10\n",
      "1    20\n",
      "2    30\n",
      "dtype: int64\n",
      "index= RangeIndex(start=0, stop=3, step=1)\n",
      "values= [10 20 30]\n"
     ]
    }
   ],
   "source": [
    "import pandas as pd\n",
    "ser=pd.Series([10,20,30])\n",
    "print(ser)\n",
    "print('index=',ser.index)\n",
    "print('values=',ser.values)"
   ]
  },
  {
   "cell_type": "code",
   "execution_count": 60,
   "metadata": {},
   "outputs": [
    {
     "name": "stdout",
     "output_type": "stream",
     "text": [
      "a    10\n",
      "b    20\n",
      "c    30\n",
      "d    40\n",
      "dtype: int64\n",
      "index= Index(['a', 'b', 'c', 'd'], dtype='object')\n",
      "values= [10 20 30 40]\n"
     ]
    }
   ],
   "source": [
    "import pandas as pd\n",
    "ser=pd.Series([10,20,30,40],['a','b','c','d'])\n",
    "print(ser)\n",
    "print('index=',ser.index)\n",
    "print('values=',ser.values)"
   ]
  },
  {
   "cell_type": "markdown",
   "metadata": {},
   "source": [
    "## 2. Series 다루어 보기"
   ]
  },
  {
   "cell_type": "markdown",
   "metadata": {},
   "source": [
    "### 1) 'scientists.csv' 파일 읽기 : read_csv()"
   ]
  },
  {
   "cell_type": "code",
   "execution_count": 62,
   "metadata": {},
   "outputs": [
    {
     "name": "stdout",
     "output_type": "stream",
     "text": [
      "                   Name        Born        Died  Age          Occupation\n",
      "0     Rosaline Franklin  1920-07-25  1958-04-16   37             Chemist\n",
      "1        William Gosset  1876-06-13  1937-10-16   61        Statistician\n",
      "2  Florence Nightingale  1820-05-12  1910-08-13   90               Nurse\n",
      "3           Marie Curie  1867-11-07  1934-07-04   66             Chemist\n",
      "4         Rachel Carson  1907-05-27  1964-04-14   56           Biologist\n",
      "5             John Snow  1813-03-15  1858-06-16   45           Physician\n",
      "6           Alan Turing  1912-06-23  1954-06-07   41  Computer Scientist\n",
      "7          Johann Gauss  1777-04-30  1855-02-23   77       Mathematician\n",
      "<class 'pandas.core.frame.DataFrame'>\n"
     ]
    }
   ],
   "source": [
    "import pandas as pd\n",
    "scientists=pd.read_csv('./data/scientists.csv',sep=\",\") #파일 읽기\n",
    "print(scientists)\n",
    "print(type(scientists))"
   ]
  },
  {
   "cell_type": "markdown",
   "metadata": {},
   "source": [
    "### 2) 데이터프레임에서  행 단위 데이터 추출하기 \n",
    "### - 데이터프레임명. loc[‘인덱스명’] 또는 데이터프레임명.iloc[행번호]"
   ]
  },
  {
   "cell_type": "markdown",
   "metadata": {},
   "source": [
    "### 2-1) 행 단위 데이터 추출 : iloc속성"
   ]
  },
  {
   "cell_type": "code",
   "execution_count": 75,
   "metadata": {},
   "outputs": [
    {
     "name": "stdout",
     "output_type": "stream",
     "text": [
      "                   Name        Born        Died  Age          Occupation\n",
      "0     Rosaline Franklin  1920-07-25  1958-04-16   37             Chemist\n",
      "1        William Gosset  1876-06-13  1937-10-16   61        Statistician\n",
      "2  Florence Nightingale  1820-05-12  1910-08-13   90               Nurse\n",
      "3           Marie Curie  1867-11-07  1934-07-04   66             Chemist\n",
      "4         Rachel Carson  1907-05-27  1964-04-14   56           Biologist\n",
      "5             John Snow  1813-03-15  1858-06-16   45           Physician\n",
      "6           Alan Turing  1912-06-23  1954-06-07   41  Computer Scientist\n",
      "7          Johann Gauss  1777-04-30  1855-02-23   77       Mathematician\n",
      "<class 'pandas.core.series.Series'>\n",
      "Name          Marie Curie\n",
      "Born           1867-11-07\n",
      "Died           1934-07-04\n",
      "Age                    66\n",
      "Occupation        Chemist\n",
      "Name: 3, dtype: object\n"
     ]
    }
   ],
   "source": [
    "import pandas as pd\n",
    "scientists=pd.read_csv('./data/scientists.csv',sep=\",\")\n",
    "print(scientists)\n",
    "rowData=scientists.iloc[3] #행번호가 3인 데이터 추출\n",
    "print(type(rowData))\n",
    "print(rowData)"
   ]
  },
  {
   "cell_type": "markdown",
   "metadata": {},
   "source": [
    "### 2-2) 행 단위 데이터 추출 : loc속성"
   ]
  },
  {
   "cell_type": "code",
   "execution_count": 73,
   "metadata": {},
   "outputs": [
    {
     "name": "stdout",
     "output_type": "stream",
     "text": [
      "                   Name        Born        Died  Age          Occupation\n",
      "0     Rosaline Franklin  1920-07-25  1958-04-16   37             Chemist\n",
      "1        William Gosset  1876-06-13  1937-10-16   61        Statistician\n",
      "2  Florence Nightingale  1820-05-12  1910-08-13   90               Nurse\n",
      "3           Marie Curie  1867-11-07  1934-07-04   66             Chemist\n",
      "4         Rachel Carson  1907-05-27  1964-04-14   56           Biologist\n",
      "5             John Snow  1813-03-15  1858-06-16   45           Physician\n",
      "6           Alan Turing  1912-06-23  1954-06-07   41  Computer Scientist\n",
      "7          Johann Gauss  1777-04-30  1855-02-23   77       Mathematician\n",
      "                            Born        Died  Age          Occupation\n",
      "Name                                                                 \n",
      "Rosaline Franklin     1920-07-25  1958-04-16   37             Chemist\n",
      "William Gosset        1876-06-13  1937-10-16   61        Statistician\n",
      "Florence Nightingale  1820-05-12  1910-08-13   90               Nurse\n",
      "Marie Curie           1867-11-07  1934-07-04   66             Chemist\n",
      "Rachel Carson         1907-05-27  1964-04-14   56           Biologist\n",
      "John Snow             1813-03-15  1858-06-16   45           Physician\n",
      "Alan Turing           1912-06-23  1954-06-07   41  Computer Scientist\n",
      "Johann Gauss          1777-04-30  1855-02-23   77       Mathematician\n",
      "<class 'pandas.core.series.Series'>\n",
      "Born          1813-03-15\n",
      "Died          1858-06-16\n",
      "Age                   45\n",
      "Occupation     Physician\n",
      "Name: John Snow, dtype: object\n"
     ]
    }
   ],
   "source": [
    "import pandas as pd\n",
    "scientists=pd.read_csv('./data/scientists.csv',sep=\",\")\n",
    "print(scientists)\n",
    "scientists=scientists.set_index('Name') #index를 'Name'로 변경\n",
    "print(scientists)\n",
    "rowData=scientists.loc['John Snow'] #index가 'John'인 데이터 추출\n",
    "print(type(rowData))\n",
    "print(rowData)"
   ]
  },
  {
   "cell_type": "markdown",
   "metadata": {},
   "source": [
    "### 3) 데이터프레임에서  열 단위 데이터 추출하기 \n",
    "### - 데이터프레임명. [‘컬럼명’]"
   ]
  },
  {
   "cell_type": "code",
   "execution_count": 76,
   "metadata": {},
   "outputs": [
    {
     "name": "stdout",
     "output_type": "stream",
     "text": [
      "<class 'pandas.core.series.Series'>\n",
      "0               Chemist\n",
      "1          Statistician\n",
      "2                 Nurse\n",
      "3               Chemist\n",
      "4             Biologist\n",
      "5             Physician\n",
      "6    Computer Scientist\n",
      "7         Mathematician\n",
      "Name: Occupation, dtype: object\n"
     ]
    }
   ],
   "source": [
    "import pandas as pd\n",
    "scientists=pd.read_csv('./data/scientists.csv',sep=\",\")\n",
    "colData=scientists['Occupation'] #컬럼이름이 'Occupation'인 열추출\n",
    "print(type(colData))\n",
    "print(colData)"
   ]
  },
  {
   "cell_type": "markdown",
   "metadata": {},
   "source": [
    "### 4) Series의 통계 메서드 사용하기 : 'Age'컬럼을 추출하여 나이가 가장 큰 값, 작은 값, 평균 값 출력하기"
   ]
  },
  {
   "cell_type": "code",
   "execution_count": null,
   "metadata": {},
   "outputs": [],
   "source": [
    "import pandas as pd\n",
    "scientists=pd.read_csv('./data/scientists.csv')\n",
    "ages=scientists['Age']\n",
    "print(ages)\n",
    "print(type(ages))\n",
    "print(\"나이가 가장 큰 값 : \",ages.max())\n",
    "print(\"나이가 가장 작은 값 : \",ages.min())\n",
    "print(\"나이의 평균 값 : \",ages.mean())"
   ]
  },
  {
   "cell_type": "markdown",
   "metadata": {},
   "source": [
    "### 5) Series의 불린(Boolean) 추출 다뤄보기 :\n",
    "### 평균 나이보다 많은 나이 추출하기"
   ]
  },
  {
   "cell_type": "code",
   "execution_count": null,
   "metadata": {},
   "outputs": [],
   "source": [
    "import pandas as pd\n",
    "scientists=pd.read_csv('./data/scientists.csv')\n",
    "ages=scientists['Age']\n",
    "print(ages[ages>ages.mean()])"
   ]
  },
  {
   "cell_type": "markdown",
   "metadata": {},
   "source": [
    "### 6) Series의 브로드캐스팅\n",
    "### 나이를 모두 5살 더 많게 하기 : 브로드캐스팅(Boardcasting) - 시리즈의 모든 데이터에 대해 한 번에 연산하는 것"
   ]
  },
  {
   "cell_type": "code",
   "execution_count": null,
   "metadata": {},
   "outputs": [],
   "source": [
    "import pandas as pd\n",
    "scientists=pd.read_csv('./data/scientists.csv')\n",
    "ages=scientists['Age']\n",
    "print(ages)\n",
    "print(ages+5)\n",
    "print(ages)"
   ]
  },
  {
   "cell_type": "markdown",
   "metadata": {},
   "source": [
    "## 3. pandas의 DataFrame"
   ]
  },
  {
   "cell_type": "code",
   "execution_count": null,
   "metadata": {},
   "outputs": [],
   "source": [
    "import pandas as pd\n",
    "\n",
    "df=pd.DataFrame(\n",
    "    [[1,10,100],[2,20,200],[3,30,300]],\n",
    "    index=['r1','r2','r3'],\n",
    "    columns=['c1','c2','c3']\n",
    ")\n",
    "print(type(df))\n",
    "print(df)"
   ]
  },
  {
   "cell_type": "markdown",
   "metadata": {},
   "source": [
    "## 4. 데이터 프레임 다루어 보기"
   ]
  },
  {
   "cell_type": "markdown",
   "metadata": {},
   "source": [
    "### 1) 'gapminder.tsv' 파일 읽기 : read_csv()"
   ]
  },
  {
   "cell_type": "code",
   "execution_count": 77,
   "metadata": {},
   "outputs": [
    {
     "name": "stdout",
     "output_type": "stream",
     "text": [
      "<class 'pandas.core.frame.DataFrame'>\n",
      "       country continent  year  lifeExp       pop   gdpPercap\n",
      "0  Afghanistan      Asia  1952   28.801   8425333  779.445314\n",
      "1  Afghanistan      Asia  1957   30.332   9240934  820.853030\n",
      "2  Afghanistan      Asia  1962   31.997  10267083  853.100710\n",
      "3  Afghanistan      Asia  1967   34.020  11537966  836.197138\n",
      "4  Afghanistan      Asia  1972   36.088  13079460  739.981106\n",
      "(1704, 6)\n"
     ]
    }
   ],
   "source": [
    "import pandas as pd\n",
    "df=pd.read_csv('./data/gapminder.tsv',delimiter='\\t') #tsv(tab separrted value)\n",
    "print(type(df))\n",
    "print(df.head()) #처음 5개의 데이터만 보기\n",
    "print(df.shape) #데이터의 (행,열)"
   ]
  },
  {
   "cell_type": "markdown",
   "metadata": {},
   "source": [
    "### 2) 연도별 lifeExp의 평균 계산"
   ]
  },
  {
   "cell_type": "code",
   "execution_count": 78,
   "metadata": {},
   "outputs": [
    {
     "name": "stdout",
     "output_type": "stream",
     "text": [
      "year\n",
      "1952    49.057620\n",
      "1957    51.507401\n",
      "1962    53.609249\n",
      "1967    55.678290\n",
      "1972    57.647386\n",
      "1977    59.570157\n",
      "1982    61.533197\n",
      "1987    63.212613\n",
      "1992    64.160338\n",
      "1997    65.014676\n",
      "2002    65.694923\n",
      "2007    67.007423\n",
      "Name: lifeExp, dtype: float64\n"
     ]
    }
   ],
   "source": [
    "import pandas as pd\n",
    "df=pd.read_csv('./data/gapminder.tsv',delimiter='\\t') #tsv(tab separrted value)\n",
    "print(df.groupby('year')['lifeExp'].mean())"
   ]
  },
  {
   "cell_type": "markdown",
   "metadata": {},
   "source": [
    "### 3) 연도별, 대륙별 lifeExp,gdpPercap의 평균 계산"
   ]
  },
  {
   "cell_type": "code",
   "execution_count": 80,
   "metadata": {},
   "outputs": [
    {
     "name": "stdout",
     "output_type": "stream",
     "text": [
      "                  lifeExp     gdpPercap\n",
      "year continent                         \n",
      "1952 Africa     39.135500   1252.572466\n",
      "     Americas   53.279840   4079.062552\n",
      "     Asia       46.314394   5195.484004\n",
      "     Europe     64.408500   5661.057435\n",
      "     Oceania    69.255000  10298.085650\n",
      "1957 Africa     41.266346   1385.236062\n",
      "     Americas   55.960280   4616.043733\n",
      "     Asia       49.318544   5787.732940\n",
      "     Europe     66.703067   6963.012816\n",
      "     Oceania    70.295000  11598.522455\n",
      "1962 Africa     43.319442   1598.078825\n",
      "     Americas   58.398760   4901.541870\n",
      "     Asia       51.563223   5729.369625\n",
      "     Europe     68.539233   8365.486814\n",
      "     Oceania    71.085000  12696.452430\n",
      "1967 Africa     45.334538   2050.363801\n",
      "     Americas   60.410920   5668.253496\n",
      "     Asia       54.663640   5971.173374\n",
      "     Europe     69.737600  10143.823757\n",
      "     Oceania    71.310000  14495.021790\n",
      "1972 Africa     47.450942   2339.615674\n",
      "     Americas   62.394920   6491.334139\n",
      "     Asia       57.319269   8187.468699\n",
      "     Europe     70.775033  12479.575246\n",
      "     Oceania    71.910000  16417.333380\n",
      "1977 Africa     49.580423   2585.938508\n",
      "     Americas   64.391560   7352.007126\n",
      "     Asia       59.610556   7791.314020\n",
      "     Europe     71.937767  14283.979110\n",
      "     Oceania    72.855000  17283.957605\n",
      "1982 Africa     51.592865   2481.592960\n",
      "     Americas   66.228840   7506.737088\n",
      "     Asia       62.617939   7434.135157\n",
      "     Europe     72.806400  15617.896551\n",
      "     Oceania    74.290000  18554.709840\n",
      "1987 Africa     53.344788   2282.668991\n",
      "     Americas   68.090720   7793.400261\n",
      "     Asia       64.851182   7608.226508\n",
      "     Europe     73.642167  17214.310727\n",
      "     Oceania    75.320000  20448.040160\n",
      "1992 Africa     53.629577   2281.810333\n",
      "     Americas   69.568360   8044.934406\n",
      "     Asia       66.537212   8639.690248\n",
      "     Europe     74.440100  17061.568084\n",
      "     Oceania    76.945000  20894.045885\n",
      "1997 Africa     53.598269   2378.759555\n",
      "     Americas   71.150480   8889.300863\n",
      "     Asia       68.020515   9834.093295\n",
      "     Europe     75.505167  19076.781802\n",
      "     Oceania    78.190000  24024.175170\n",
      "2002 Africa     53.325231   2599.385159\n",
      "     Americas   72.422040   9287.677107\n",
      "     Asia       69.233879  10174.090397\n",
      "     Europe     76.700600  21711.732422\n",
      "     Oceania    79.740000  26938.778040\n",
      "2007 Africa     54.806038   3089.032605\n",
      "     Americas   73.608120  11003.031625\n",
      "     Asia       70.728485  12473.026870\n",
      "     Europe     77.648600  25054.481636\n",
      "     Oceania    80.719500  29810.188275\n"
     ]
    }
   ],
   "source": [
    "import pandas as pd\n",
    "df=pd.read_csv('./data/gapminder.tsv',delimiter='\\t') #tsv(tab separrted value)\n",
    "print(df.groupby(['year','continent'])['lifeExp','gdpPercap'].mean())"
   ]
  },
  {
   "cell_type": "markdown",
   "metadata": {},
   "source": [
    "### 4) 대륙별로 그룹화한 데이터 갯수 세기"
   ]
  },
  {
   "cell_type": "code",
   "execution_count": 79,
   "metadata": {
    "scrolled": true
   },
   "outputs": [
    {
     "name": "stdout",
     "output_type": "stream",
     "text": [
      "continent\n",
      "Africa      52\n",
      "Americas    25\n",
      "Asia        33\n",
      "Europe      30\n",
      "Oceania      2\n",
      "Name: country, dtype: int64\n"
     ]
    }
   ],
   "source": [
    "import pandas as pd\n",
    "df=pd.read_csv('./data/gapminder.tsv',delimiter='\\t') #tsv(tab separrted value)\n",
    "print(df.groupby('continent')['country'].nunique())"
   ]
  },
  {
   "cell_type": "markdown",
   "metadata": {},
   "source": [
    "## [실습1] 워밍업 문제를 pandas로 해결하기 : data/scientists.csv\n",
    "- 과학자들의 평균 나이(Age)는 얼마일까요?\n",
    "- 직업(Occupation)이 화학자(Chemist)인 과학자는 누구일까요?\n",
    "- Alan Turing은 총 몇 일을 살았을까요?"
   ]
  },
  {
   "cell_type": "code",
   "execution_count": 81,
   "metadata": {},
   "outputs": [
    {
     "name": "stdout",
     "output_type": "stream",
     "text": [
      "1.과학자들의 평균 나이 :  59.125\n",
      "2.직업(Occupation)이 화학자(Chemist)인 과학자 :  ['Rosaline Franklin' 'Marie Curie']\n"
     ]
    }
   ],
   "source": [
    "import pandas as pd\n",
    "df=pd.read_csv('./data/scientists.csv')\n",
    "Chemist=df.loc[df.Occupation=='Chemist']\n",
    "print(\"1.과학자들의 평균 나이 : \",df['Age'].mean())\n",
    "print(\"2.직업(Occupation)이 화학자(Chemist)인 과학자 : \",Chemist['Name'].values)"
   ]
  },
  {
   "cell_type": "markdown",
   "metadata": {},
   "source": [
    "## [실습2] Day2의 실습을 pandas로 해결하기 "
   ]
  },
  {
   "cell_type": "markdown",
   "metadata": {},
   "source": [
    "### 1)  [실습1] y=2*x**2 그래프 그리기"
   ]
  },
  {
   "cell_type": "code",
   "execution_count": 86,
   "metadata": {
    "scrolled": true
   },
   "outputs": [
    {
     "data": {
      "image/png": "[encoded data removed]",
      "text/plain": [
       "<Figure size 432x288 with 1 Axes>"
      ]
     },
     "metadata": {
      "needs_background": "light"
     },
     "output_type": "display_data"
    }
   ],
   "source": [
    "import numpy as np\n",
    "import pandas as pd\n",
    "import matplotlib.pyplot as plt\n",
    "\n",
    "plt.rcParams['font.family']='Malgun Gothic'\n",
    "x=np.arange(-100,100) #-100~100까지 데이터로 배열 생성\n",
    "y=pd.Series(2*x**2) #y=2*x**2\n",
    "plt.rcParams['axes.unicode_minus']=False\n",
    "\n",
    "g=y.plot()\n",
    "g.set_title('y=2*x**2의 2차원 그래프') #차트 제목\n",
    "plt.show()"
   ]
  },
  {
   "attachments": {},
   "cell_type": "markdown",
   "metadata": {},
   "source": [
    "### 2)[실습2] 키와 몸무게의 산점도 그래프"
   ]
  },
  {
   "cell_type": "code",
   "execution_count": 11,
   "metadata": {
    "scrolled": true
   },
   "outputs": [
    {
     "data": {
      "image/png": "[encoded data removed]",
      "text/plain": [
       "<Figure size 432x288 with 1 Axes>"
      ]
     },
     "metadata": {
      "needs_background": "light"
     },
     "output_type": "display_data"
    }
   ],
   "source": [
    "import numpy as np\n",
    "import pandas as pd\n",
    "import matplotlib.pyplot as plt\n",
    "df=pd.read_csv('./data/height_weight.csv',encoding='euc-kr') #한글 인코딩 처리\n",
    "dotSize=np.random.randint(1,1000,size=100) #1~1000사이를 랜덤으로 10개 발생\n",
    "colors=['r','g','b','c','m','k','y']\n",
    "plt.rcParams['font.family']='Malgun Gothic'\n",
    "scatter_g=df.plot.scatter(x='키(Height)', y='몸무게(Weight)',s=dotSize,c=colors,alpha=0.5)\n",
    "scatter_g.set_title('키와 몸무게의 관계') #차트제목\n",
    "scatter_g.grid()\n",
    "plt.show()"
   ]
  },
  {
   "cell_type": "markdown",
   "metadata": {},
   "source": [
    "### 3) [실습3] 수학점수 히스토그램"
   ]
  },
  {
   "cell_type": "code",
   "execution_count": 18,
   "metadata": {
    "scrolled": true
   },
   "outputs": [
    {
     "data": {
      "image/png": "[encoded data removed]",
      "text/plain": [
       "<Figure size 432x288 with 1 Axes>"
      ]
     },
     "metadata": {
      "needs_background": "light"
     },
     "output_type": "display_data"
    }
   ],
   "source": [
    "import numpy as np\n",
    "import pandas as pd\n",
    "import matplotlib.pyplot as plt\n",
    "df=pd.read_csv('./data/math_score.csv',encoding='euc-kr')\n",
    "math_hist=df.plot.hist(bins=8, grid=True)\n",
    "math_hist.set_title('수학 점수 히스토그램')\n",
    "plt.show()"
   ]
  },
  {
   "attachments": {},
   "cell_type": "markdown",
   "metadata": {},
   "source": [
    "### 4) [실습] 운동 시작 전과 후의 윗몸 일으키기 횟수 변화 막대 그래프"
   ]
  },
  {
   "cell_type": "code",
   "execution_count": 35,
   "metadata": {},
   "outputs": [
    {
     "data": {
      "image/png": "[encoded data removed]",
      "text/plain": [
       "<Figure size 432x288 with 1 Axes>"
      ]
     },
     "metadata": {
      "needs_background": "light"
     },
     "output_type": "display_data"
    }
   ],
   "source": [
    "import numpy as np\n",
    "import pandas as pd\n",
    "import matplotlib.pyplot as plt\n",
    "df=pd.read_csv('./data/exercise_result.csv',encoding='euc-kr',index_col='회원ID')\n",
    "df.set_index='회원ID'\n",
    "df_bar=df.plot.bar()\n",
    "df_bar.set_title('운동 시작 전와 후의 윗몸 일으키기 횟수 변화')\n",
    "plt.show()"
   ]
  },
  {
   "cell_type": "markdown",
   "metadata": {},
   "source": [
    "# [Project] 서울 청소년의 스트레스 분석"
   ]
  },
  {
   "cell_type": "markdown",
   "metadata": {},
   "source": [
    "## 1. 데이터 불러와서 저장하기"
   ]
  },
  {
   "cell_type": "code",
   "execution_count": 1,
   "metadata": {},
   "outputs": [
    {
     "name": "stdout",
     "output_type": "stream",
     "text": [
      "   스트레스  스트레스남학생  스트레스여학생  우울감경험  우울감남학생  우울감여학생  자살생각  자살생각남학생  자살생각여학생\n",
      "0  42.7     34.5     51.5   29.6    24.2    35.4  15.4     11.8     19.2\n"
     ]
    },
    {
     "data": {
      "text/plain": [
       "pandas.core.frame.DataFrame"
      ]
     },
     "execution_count": 1,
     "metadata": {},
     "output_type": "execute_result"
    }
   ],
   "source": [
    "import pandas as pd\n",
    "col_names=['스트레스','스트레스남학생','스트레스여학생','우울감경험','우울감남학생','우울감여학생','자살생각','자살생각남학생','자살생각여학생']\n",
    "data=pd.read_excel('./data/teenage_mental.xls', header=1,usecols=\"C:K\",names=col_names, encoding='euc-kr') #값을 data에 저장하기\n",
    "print(data)\n",
    "type(data)"
   ]
  },
  {
   "cell_type": "markdown",
   "metadata": {},
   "source": [
    "## 2. 데이터에 아니오의 비율을 가진 행 추가하기"
   ]
  },
  {
   "cell_type": "code",
   "execution_count": 2,
   "metadata": {},
   "outputs": [
    {
     "data": {
      "text/html": [
       "<div>\n",
       "<style scoped>\n",
       "    .dataframe tbody tr th:only-of-type {\n",
       "        vertical-align: middle;\n",
       "    }\n",
       "\n",
       "    .dataframe tbody tr th {\n",
       "        vertical-align: top;\n",
       "    }\n",
       "\n",
       "    .dataframe thead th {\n",
       "        text-align: right;\n",
       "    }\n",
       "</style>\n",
       "<table border=\"1\" class=\"dataframe\">\n",
       "  <thead>\n",
       "    <tr style=\"text-align: right;\">\n",
       "      <th></th>\n",
       "      <th>스트레스</th>\n",
       "      <th>스트레스남학생</th>\n",
       "      <th>스트레스여학생</th>\n",
       "      <th>우울감경험</th>\n",
       "      <th>우울감남학생</th>\n",
       "      <th>우울감여학생</th>\n",
       "      <th>자살생각</th>\n",
       "      <th>자살생각남학생</th>\n",
       "      <th>자살생각여학생</th>\n",
       "    </tr>\n",
       "  </thead>\n",
       "  <tbody>\n",
       "    <tr>\n",
       "      <th>0</th>\n",
       "      <td>42.7</td>\n",
       "      <td>34.5</td>\n",
       "      <td>51.5</td>\n",
       "      <td>29.6</td>\n",
       "      <td>24.2</td>\n",
       "      <td>35.4</td>\n",
       "      <td>15.4</td>\n",
       "      <td>11.8</td>\n",
       "      <td>19.2</td>\n",
       "    </tr>\n",
       "    <tr>\n",
       "      <th>1</th>\n",
       "      <td>57.3</td>\n",
       "      <td>65.5</td>\n",
       "      <td>48.5</td>\n",
       "      <td>70.4</td>\n",
       "      <td>75.8</td>\n",
       "      <td>64.6</td>\n",
       "      <td>84.6</td>\n",
       "      <td>88.2</td>\n",
       "      <td>80.8</td>\n",
       "    </tr>\n",
       "  </tbody>\n",
       "</table>\n",
       "</div>"
      ],
      "text/plain": [
       "   스트레스  스트레스남학생  스트레스여학생  우울감경험  우울감남학생  우울감여학생  자살생각  자살생각남학생  자살생각여학생\n",
       "0  42.7     34.5     51.5   29.6    24.2    35.4  15.4     11.8     19.2\n",
       "1  57.3     65.5     48.5   70.4    75.8    64.6  84.6     88.2     80.8"
      ]
     },
     "execution_count": 2,
     "metadata": {},
     "output_type": "execute_result"
    }
   ],
   "source": [
    "data.loc[1]=100-data.loc[0]\n",
    "data"
   ]
  },
  {
   "cell_type": "markdown",
   "metadata": {},
   "source": [
    "## 3. 인덱스를 '그렇다','아니다'로 바꾸기"
   ]
  },
  {
   "cell_type": "code",
   "execution_count": 3,
   "metadata": {},
   "outputs": [
    {
     "data": {
      "text/html": [
       "<div>\n",
       "<style scoped>\n",
       "    .dataframe tbody tr th:only-of-type {\n",
       "        vertical-align: middle;\n",
       "    }\n",
       "\n",
       "    .dataframe tbody tr th {\n",
       "        vertical-align: top;\n",
       "    }\n",
       "\n",
       "    .dataframe thead th {\n",
       "        text-align: right;\n",
       "    }\n",
       "</style>\n",
       "<table border=\"1\" class=\"dataframe\">\n",
       "  <thead>\n",
       "    <tr style=\"text-align: right;\">\n",
       "      <th></th>\n",
       "      <th>스트레스</th>\n",
       "      <th>스트레스남학생</th>\n",
       "      <th>스트레스여학생</th>\n",
       "      <th>우울감경험</th>\n",
       "      <th>우울감남학생</th>\n",
       "      <th>우울감여학생</th>\n",
       "      <th>자살생각</th>\n",
       "      <th>자살생각남학생</th>\n",
       "      <th>자살생각여학생</th>\n",
       "      <th>응답</th>\n",
       "    </tr>\n",
       "  </thead>\n",
       "  <tbody>\n",
       "    <tr>\n",
       "      <th>0</th>\n",
       "      <td>42.7</td>\n",
       "      <td>34.5</td>\n",
       "      <td>51.5</td>\n",
       "      <td>29.6</td>\n",
       "      <td>24.2</td>\n",
       "      <td>35.4</td>\n",
       "      <td>15.4</td>\n",
       "      <td>11.8</td>\n",
       "      <td>19.2</td>\n",
       "      <td>그렇다</td>\n",
       "    </tr>\n",
       "    <tr>\n",
       "      <th>1</th>\n",
       "      <td>57.3</td>\n",
       "      <td>65.5</td>\n",
       "      <td>48.5</td>\n",
       "      <td>70.4</td>\n",
       "      <td>75.8</td>\n",
       "      <td>64.6</td>\n",
       "      <td>84.6</td>\n",
       "      <td>88.2</td>\n",
       "      <td>80.8</td>\n",
       "      <td>아니다</td>\n",
       "    </tr>\n",
       "  </tbody>\n",
       "</table>\n",
       "</div>"
      ],
      "text/plain": [
       "   스트레스  스트레스남학생  스트레스여학생  우울감경험  우울감남학생  우울감여학생  자살생각  자살생각남학생  자살생각여학생   응답\n",
       "0  42.7     34.5     51.5   29.6    24.2    35.4  15.4     11.8     19.2  그렇다\n",
       "1  57.3     65.5     48.5   70.4    75.8    64.6  84.6     88.2     80.8  아니다"
      ]
     },
     "execution_count": 3,
     "metadata": {},
     "output_type": "execute_result"
    }
   ],
   "source": [
    "data['응답']=['그렇다','아니다']\n",
    "data"
   ]
  },
  {
   "cell_type": "code",
   "execution_count": 5,
   "metadata": {},
   "outputs": [
    {
     "data": {
      "text/html": [
       "<div>\n",
       "<style scoped>\n",
       "    .dataframe tbody tr th:only-of-type {\n",
       "        vertical-align: middle;\n",
       "    }\n",
       "\n",
       "    .dataframe tbody tr th {\n",
       "        vertical-align: top;\n",
       "    }\n",
       "\n",
       "    .dataframe thead th {\n",
       "        text-align: right;\n",
       "    }\n",
       "</style>\n",
       "<table border=\"1\" class=\"dataframe\">\n",
       "  <thead>\n",
       "    <tr style=\"text-align: right;\">\n",
       "      <th></th>\n",
       "      <th>스트레스</th>\n",
       "      <th>스트레스남학생</th>\n",
       "      <th>스트레스여학생</th>\n",
       "      <th>우울감경험</th>\n",
       "      <th>우울감남학생</th>\n",
       "      <th>우울감여학생</th>\n",
       "      <th>자살생각</th>\n",
       "      <th>자살생각남학생</th>\n",
       "      <th>자살생각여학생</th>\n",
       "    </tr>\n",
       "    <tr>\n",
       "      <th>응답</th>\n",
       "      <th></th>\n",
       "      <th></th>\n",
       "      <th></th>\n",
       "      <th></th>\n",
       "      <th></th>\n",
       "      <th></th>\n",
       "      <th></th>\n",
       "      <th></th>\n",
       "      <th></th>\n",
       "    </tr>\n",
       "  </thead>\n",
       "  <tbody>\n",
       "    <tr>\n",
       "      <th>그렇다</th>\n",
       "      <td>42.7</td>\n",
       "      <td>34.5</td>\n",
       "      <td>51.5</td>\n",
       "      <td>29.6</td>\n",
       "      <td>24.2</td>\n",
       "      <td>35.4</td>\n",
       "      <td>15.4</td>\n",
       "      <td>11.8</td>\n",
       "      <td>19.2</td>\n",
       "    </tr>\n",
       "    <tr>\n",
       "      <th>아니다</th>\n",
       "      <td>57.3</td>\n",
       "      <td>65.5</td>\n",
       "      <td>48.5</td>\n",
       "      <td>70.4</td>\n",
       "      <td>75.8</td>\n",
       "      <td>64.6</td>\n",
       "      <td>84.6</td>\n",
       "      <td>88.2</td>\n",
       "      <td>80.8</td>\n",
       "    </tr>\n",
       "  </tbody>\n",
       "</table>\n",
       "</div>"
      ],
      "text/plain": [
       "     스트레스  스트레스남학생  스트레스여학생  우울감경험  우울감남학생  우울감여학생  자살생각  자살생각남학생  자살생각여학생\n",
       "응답                                                                        \n",
       "그렇다  42.7     34.5     51.5   29.6    24.2    35.4  15.4     11.8     19.2\n",
       "아니다  57.3     65.5     48.5   70.4    75.8    64.6  84.6     88.2     80.8"
      ]
     },
     "execution_count": 5,
     "metadata": {},
     "output_type": "execute_result"
    }
   ],
   "source": [
    "data.set_index('응답',inplace=True)\n",
    "data"
   ]
  },
  {
   "cell_type": "markdown",
   "metadata": {},
   "source": [
    "## 4. 데이터를 시각적으로 표현하기"
   ]
  },
  {
   "cell_type": "code",
   "execution_count": 7,
   "metadata": {},
   "outputs": [
    {
     "data": {
      "image/png": "[encoded data removed]",
      "text/plain": [
       "<Figure size 432x288 with 1 Axes>"
      ]
     },
     "metadata": {},
     "output_type": "display_data"
    },
    {
     "data": {
      "image/png": "[encoded data removed]",
      "text/plain": [
       "<Figure size 1152x576 with 3 Axes>"
      ]
     },
     "metadata": {},
     "output_type": "display_data"
    }
   ],
   "source": [
    "import matplotlib.pyplot as plt\n",
    "plt.rc('font',family='Malgun Gothic') \n",
    "data['스트레스'].plot.pie()\n",
    "fig, axes=plt.subplots(1,3,figsize=(16,8)) #1행 3열로 plot을 배치\n",
    "data['스트레스'].plot.pie(explode=[0,0.02],ax=axes[0],autopct='%1.1f%%')\n",
    "axes[0].set_title('스트레스를 받은 적이 있다')\n",
    "axes[0].set_ylabel('')\n",
    "\n",
    "data['우울감경험'].plot.pie(explode=[0,0.02],ax=axes[1],autopct='%1.1f%%')\n",
    "axes[1].set_title('우울감을 경험한 적이 있다')\n",
    "axes[1].set_ylabel('')\n",
    "\n",
    "data['자살생각'].plot.pie(explode=[0,0.02],ax=axes[2],autopct='%1.1f%%')\n",
    "axes[2].set_title('자살을 고민한 적이 있다')\n",
    "axes[2].set_ylabel('')\n",
    "plt.show()"
   ]
  },
  {
   "cell_type": "code",
   "execution_count": null,
   "metadata": {},
   "outputs": [],
   "source": []
  }
 ],
 "metadata": {
  "kernelspec": {
   "display_name": "Python 3",
   "language": "python",
   "name": "python3"
  },
  "language_info": {
   "codemirror_mode": {
    "name": "ipython",
    "version": 3
   },
   "file_extension": ".py",
   "mimetype": "text/x-python",
   "name": "python",
   "nbconvert_exporter": "python",
   "pygments_lexer": "ipython3",
   "version": "3.7.1"
  }
 },
 "nbformat": 4,
 "nbformat_minor": 2
}
