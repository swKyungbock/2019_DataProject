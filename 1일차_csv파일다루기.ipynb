{
 "cells": [
  {
   "cell_type": "markdown",
   "metadata": {},
   "source": [
    "# Day1 : csv파일다루기"
   ]
  },
  {
   "cell_type": "markdown",
   "metadata": {},
   "source": [
    "# #1. 파일 입출력"
   ]
  },
  {
   "cell_type": "markdown",
   "metadata": {},
   "source": [
    "## 1. 파일 입력(File Input) : open->read->데이터처리->close"
   ]
  },
  {
   "cell_type": "code",
   "execution_count": null,
   "metadata": {},
   "outputs": [],
   "source": [
    "f=open('readTest.txt','r') #readTest.txt파일을 읽기 모드로 연다(미리 파일 준비)\n",
    "data=f.read() #read : 파일 입력 \n",
    "print(data) #데이터 처리 : data의 내용 화면 출력\n",
    "f.close() #파일 닫기"
   ]
  },
  {
   "cell_type": "markdown",
   "metadata": {},
   "source": [
    "## 2. 파일 출력(File Output) : open->데이터처리->write->close"
   ]
  },
  {
   "cell_type": "code",
   "execution_count": null,
   "metadata": {},
   "outputs": [],
   "source": [
    "f=open('writeTest.txt','w') #writeTest.txt파일을 쓰기 모드로 연다.\n",
    "data=['1,2,3,4,5'] #데이터 준비\n",
    "data.sort(reverse=True) #데이터 처리\n",
    "max=data[0]\n",
    "print(max)\n",
    "f.write('max='+str(max)) #write : 파일 출력\n",
    "f.close()\n"
   ]
  },
  {
   "cell_type": "markdown",
   "metadata": {},
   "source": [
    "## [실습1] 0106FileIO폴더의  FileTest1.txt의 내용을 읽어서 화면에 출력하기"
   ]
  },
  {
   "cell_type": "code",
   "execution_count": null,
   "metadata": {},
   "outputs": [],
   "source": [
    "f=open('./data/FileTest1.txt','r')\n",
    "data=f.read()\n",
    "print(\"파일의 내용 출력\")\n",
    "print(data)\n",
    "f.close()"
   ]
  },
  {
   "cell_type": "markdown",
   "metadata": {},
   "source": [
    "## [실습2] 키보드로 입력받은 데이터를 0106FileIO\\FileTest2.txt 파일에 출력하기"
   ]
  },
  {
   "cell_type": "code",
   "execution_count": null,
   "metadata": {},
   "outputs": [],
   "source": [
    "f=open('./data/FileTest2.txt','w')\n",
    "data=input(\"파일에 쓸 내용 입력 : \")\n",
    "f.write(data)\n",
    "f.close()"
   ]
  },
  {
   "cell_type": "markdown",
   "metadata": {},
   "source": [
    "# #2. CSV 파일 다루기"
   ]
  },
  {
   "cell_type": "markdown",
   "metadata": {},
   "source": [
    "## [실습1] classLib.csv 파일을 읽은 후 화면에 내용 출력하기"
   ]
  },
  {
   "cell_type": "code",
   "execution_count": null,
   "metadata": {},
   "outputs": [],
   "source": [
    "import csv\n",
    "f=open('./data/classLib.csv','r')\n",
    "rData=csv.reader(f)\n",
    "print(rData)\n",
    "f.close()"
   ]
  },
  {
   "cell_type": "code",
   "execution_count": null,
   "metadata": {},
   "outputs": [],
   "source": [
    "import csv\n",
    "f=open('./data/classLib.csv','r')\n",
    "rData=csv.reader(f)\n",
    "print(rData)\n",
    "for row in rData :\n",
    "    print(row)\n",
    "f.close()"
   ]
  },
  {
   "cell_type": "markdown",
   "metadata": {},
   "source": [
    "## [실습2] classLib.csv에서 연번과 도서명만 출력하기"
   ]
  },
  {
   "cell_type": "code",
   "execution_count": null,
   "metadata": {},
   "outputs": [],
   "source": [
    "import csv\n",
    "f=open('./data/classLib.csv','r')\n",
    "rData=csv.reader(f)\n",
    "\n",
    "for row in rData :\n",
    "    print(row[0]+\"\\t\"+row[2])\n",
    "f.close()"
   ]
  },
  {
   "cell_type": "markdown",
   "metadata": {},
   "source": [
    "## [실습3] classLib.csv파일에 데이터 추가하기\n",
    "### 추가할 내용 : (‘문학예술', '언어의온도', '이기주', '말글터', '2016.8.19')"
   ]
  },
  {
   "cell_type": "code",
   "execution_count": null,
   "metadata": {},
   "outputs": [],
   "source": [
    "import csv\n",
    "f=open('./data/classLib.csv','a')\n",
    "data=['문화예술','언어의온도','이기주','말글터','2016.8.19']\n",
    "w=csv.writer(f)\n",
    "w.writerow(data)\n",
    "f.close()"
   ]
  },
  {
   "cell_type": "code",
   "execution_count": null,
   "metadata": {},
   "outputs": [],
   "source": [
    "import csv\n",
    "f=open('./data/classLib.csv','r+',newline='')\n",
    "rData=csv.reader(f)\n",
    "w=csv.writer(f)\n",
    "header=next(rData) #첫째줄 처리\n",
    "rData=list(rData)\n",
    "cnt=len(rData) \n",
    "newData=[cnt+1,'문학예술','언어의온도','이기주','말글터','2016.8.19']\n",
    "rData.append(newData)\n",
    "w.writerow(newData)\n",
    "for row in rData:\n",
    "    row[0]=int(row[0])\n",
    "    print(row)\n",
    "f.close()"
   ]
  },
  {
   "cell_type": "markdown",
   "metadata": {},
   "source": [
    "# #3. [project] 매년 내 생일에 서울 기온은 어땠을까?"
   ]
  },
  {
   "cell_type": "markdown",
   "metadata": {},
   "source": [
    "## [실습1] 서울의 기온 데이터 분석 맛보기 : 가장 추웠던 날"
   ]
  },
  {
   "cell_type": "markdown",
   "metadata": {},
   "source": [
    "### step1. 파일 읽어와서 출력해보기"
   ]
  },
  {
   "cell_type": "code",
   "execution_count": null,
   "metadata": {},
   "outputs": [],
   "source": [
    "import csv\n",
    "f=open('./data/seoul_temp.csv','r')\n",
    "rData=csv.reader(f)\n",
    "for row in rData :\n",
    "    print(row)\n",
    "f.close()"
   ]
  },
  {
   "cell_type": "markdown",
   "metadata": {},
   "source": [
    "### step2. 최소 값을 찾는 알고리즘을 구현하여 최저기온 찾기\n",
    "#### 날짜 : row[0] , 최저기온 : row[2] "
   ]
  },
  {
   "cell_type": "code",
   "execution_count": null,
   "metadata": {},
   "outputs": [],
   "source": [
    "import csv\n",
    "f=open('./data/seoul_temp.csv','r')\n",
    "rData=csv.reader(f)\n",
    "minTemp=0.0\n",
    "header=next(rData)\n",
    "for row in rData :\n",
    "    if(minTemp>float(row[2])) :\n",
    "        minTemp=float(row[2])\n",
    "        minDate=row[0]\n",
    "print(\"서울이 가장 추웠던 날 : \"+minDate+\" 기온 : \"+str(minTemp))\n",
    "f.close()"
   ]
  },
  {
   "cell_type": "markdown",
   "metadata": {},
   "source": [
    "## [project] 매년 내 생일의 평균 기온은 어땠을까?"
   ]
  },
  {
   "cell_type": "code",
   "execution_count": null,
   "metadata": {},
   "outputs": [],
   "source": [
    "import csv\n",
    "f=open('./data/seoul_temp.csv','r')\n",
    "data=csv.reader(f)\n",
    "minTemp=0.0\n",
    "header=next(data)\n",
    "sumTemp=0.0\n",
    "aveTemp=0.0\n",
    "cnt=0\n",
    "print(\"매년 내 생일의 평균 기온 출력\")\n",
    "for row in data :\n",
    "    date=row[0]\n",
    "    month=date[5:7]\n",
    "    day=date[8:10]\n",
    "    if(month=='11' and day=='24') :\n",
    "        cnt=cnt+1\n",
    "        print(str(cnt)+'살 : '+row[0]+'\\t'+row[1])\n",
    "        sumTemp=sumTemp+float(row[1])        \n",
    "aveTemp=sumTemp/cnt\n",
    "print(\"내 생일의 평균 기온들의 평균 값 : %.2f\"%aveTemp)\n",
    "f.close()"
   ]
  },
  {
   "cell_type": "code",
   "execution_count": null,
   "metadata": {},
   "outputs": [],
   "source": []
  }
 ],
 "metadata": {
  "kernelspec": {
   "display_name": "Python 3",
   "language": "python",
   "name": "python3"
  },
  "language_info": {
   "codemirror_mode": {
    "name": "ipython",
    "version": 3
   },
   "file_extension": ".py",
   "mimetype": "text/x-python",
   "name": "python",
   "nbconvert_exporter": "python",
   "pygments_lexer": "ipython3",
   "version": "3.7.1"
  }
 },
 "nbformat": 4,
 "nbformat_minor": 2
}
